{
 "cells": [
  {
   "cell_type": "markdown",
   "metadata": {},
   "source": [
    "# Shakespeare in a graph"
   ]
  },
  {
   "cell_type": "markdown",
   "metadata": {},
   "source": [
    "get the data from the Guttenbenrg Corpus"
   ]
  },
  {
   "cell_type": "markdown",
   "metadata": {},
   "source": [
    "http://www.gutenberg.org/cache/epub/100/100.txt"
   ]
  },
  {
   "cell_type": "markdown",
   "metadata": {},
   "source": [
    "rename the data and run Word2vec CBOW once the Sahakespeare text has been binarized"
   ]
  },
  {
   "cell_type": "markdown",
   "metadata": {},
   "source": [
    " ### Python Code"
   ]
  },
  {
   "cell_type": "code",
   "execution_count": 2,
   "metadata": {},
   "outputs": [
    {
     "name": "stderr",
     "output_type": "stream",
     "text": [
      "C:\\Anaconda2\\envs\\python3Env\\lib\\site-packages\\gensim\\utils.py:865: UserWarning: detected Windows; aliasing chunkize to chunkize_serial\n",
      "  warnings.warn(\"detected Windows; aliasing chunkize to chunkize_serial\")\n",
      "Using TensorFlow backend.\n"
     ]
    }
   ],
   "source": [
    "from neo4jrestclient import client\n",
    "from neo4jrestclient.client import GraphDatabase\n",
    "db = GraphDatabase(\"http://localhost:7474\",\"neo4j\",\"valy1990\")\n",
    "#db = GraphDatabase(\"http://localhost:7474\",\"neo4j\",\"xavier\")\n",
    "from gensim.models import word2vec\n",
    "import re\n",
    "from neo4jrestclient.client import GraphDatabase\n",
    "import os \n",
    "#cwd =os.getcwd()\n"
   ]
  },
  {
   "cell_type": "code",
   "execution_count": 3,
   "metadata": {},
   "outputs": [],
   "source": [
    "mypath = os.getcwd()\n",
    "pathData = mypath"
   ]
  },
  {
   "cell_type": "code",
   "execution_count": 4,
   "metadata": {
    "collapsed": true
   },
   "outputs": [],
   "source": [
    "class MySentences(object):\n",
    "    def __init__(self, dirname, filename):\n",
    "        self.dirname = dirname\n",
    "        self.filename = filename\n",
    " \n",
    "    def __iter__(self):\n",
    "        for line in open(os.path.join(self.dirname, self.filename)):\n",
    "            yield line.split()"
   ]
  },
  {
   "cell_type": "code",
   "execution_count": 5,
   "metadata": {
    "collapsed": true
   },
   "outputs": [],
   "source": [
    "sentencesShakespeare = MySentences(pathData,'shakespeare.txt')"
   ]
  },
  {
   "cell_type": "code",
   "execution_count": 27,
   "metadata": {},
   "outputs": [],
   "source": [
    "model = word2vec.Word2Vec(sentencesShakespeare, min_count=50, size=200, sg=0,cbow_mean=1)"
   ]
  },
  {
   "cell_type": "code",
   "execution_count": 28,
   "metadata": {},
   "outputs": [
    {
     "data": {
      "text/plain": [
       "array([ 0.10318378, -0.01143399, -0.40354472,  0.14453769,  0.18503197,\n",
       "       -0.26849663, -0.41398111,  0.20695838,  0.20380649, -0.33432022,\n",
       "        0.07091946, -0.21679181,  0.22540955,  0.00686741, -0.36712229,\n",
       "       -0.52191943,  0.46489534,  0.33875161,  0.51797944,  0.7633487 ,\n",
       "       -0.68542451, -0.05233897, -0.02719302,  0.07380115,  0.25989929,\n",
       "       -0.42372516, -0.21933682,  0.3463186 ,  0.08699068, -0.13983421,\n",
       "        0.38972062, -0.34776199, -0.28163522,  0.72355032,  0.14265998,\n",
       "        0.18329003,  0.28499898, -0.24053566,  0.09843031, -0.05217484,\n",
       "        0.05126661, -0.14381196, -0.07725375, -0.33922732,  0.22646734,\n",
       "        0.3341735 ,  0.54713142,  0.14259708,  0.42431283,  0.44369584,\n",
       "        0.02754814,  0.09515078, -0.02341047,  0.20675211,  0.43211755,\n",
       "       -0.01391798, -0.08355758,  0.09801952,  0.04709624,  0.22624503,\n",
       "       -0.23171608, -0.09650106, -0.23638722,  0.68651175, -0.47933167,\n",
       "        0.31967154,  0.37850273,  0.09487572,  0.0259275 , -0.33309302,\n",
       "        0.09197973,  0.3629024 , -0.13603415, -0.39897171, -0.64211452,\n",
       "       -0.3758736 , -0.05897632,  0.45124534, -0.52282357,  0.31264809,\n",
       "       -0.90707487,  0.15070169,  0.30313227, -0.44907984, -0.11166585,\n",
       "        0.22278255, -0.0433374 , -0.60559982, -0.15802056,  0.10342693,\n",
       "       -0.12129817,  0.494957  , -0.04309201, -0.01136943, -0.188243  ,\n",
       "       -0.16506222, -0.02942331,  0.03774359,  0.1147608 ,  0.40252063,\n",
       "        0.30122486, -0.01044535, -0.13051917,  0.18929155,  0.34024751,\n",
       "        0.11116984,  0.08020166,  0.06700189,  0.13406391, -0.21959944,\n",
       "        0.00210507, -0.09370894, -0.04151362,  0.56050915,  0.06584579,\n",
       "       -0.55285162, -0.20750263, -0.18597427, -0.20403442, -0.11243214,\n",
       "       -0.16978098, -0.22384343,  0.03020499, -0.09316916, -0.03014174,\n",
       "       -0.54180992, -0.26086971,  0.10116042,  0.4079223 ,  0.22468103,\n",
       "       -0.4934203 , -0.04864749, -0.07755924, -0.19032881, -0.05344267,\n",
       "       -0.01130677,  0.10478649, -0.47930732,  0.2751112 , -0.42516816,\n",
       "       -0.0169946 ,  0.06649838,  0.31423226,  0.49383599, -0.31053865,\n",
       "       -0.07924012, -0.38466036, -0.17626514, -0.0484188 , -0.3016372 ,\n",
       "       -0.16383483, -0.22253135, -0.07233752,  0.28872237,  0.04070951,\n",
       "       -0.05858511,  0.13252769,  0.43237728,  0.00617938, -0.44956699,\n",
       "        0.19275281,  0.44730106, -0.25882116,  0.06026587,  0.15217295,\n",
       "        0.2121575 , -0.48868355,  0.58400136,  0.5199132 ,  0.22100265,\n",
       "       -0.2871443 , -0.03405449,  0.23949982,  0.34680843, -0.00739385,\n",
       "        0.2360996 ,  0.48806515, -0.90426803,  0.62209755, -0.12506801,\n",
       "        0.03742882, -0.08106578, -0.25504911, -0.72867465,  0.09050462,\n",
       "       -0.14048208, -0.01725177, -0.25226656,  0.16476564, -0.53447479,\n",
       "       -0.46693084, -0.82427269,  0.54264712,  0.02176791, -0.75079238,\n",
       "        0.10812309, -0.21270403,  0.05808176, -0.09663618, -0.13047716], dtype=float32)"
      ]
     },
     "execution_count": 28,
     "metadata": {},
     "output_type": "execute_result"
    }
   ],
   "source": [
    "model.wv['the']\n",
    "# or model['the']"
   ]
  },
  {
   "cell_type": "markdown",
   "metadata": {},
   "source": [
    "### Recursive Function"
   ]
  },
  {
   "cell_type": "code",
   "execution_count": 26,
   "metadata": {},
   "outputs": [],
   "source": [
    "cachedWords = {}\n",
    " \n",
    "## settings\n",
    "rootWord = 'love'   # Initial Node\n",
    "width = 5         # Width is the number of similar words to our intial node word\n",
    "depth = 4           # How deep do we go in the graph\n",
    " \n",
    "## Create all the labels\n",
    "\n",
    "wordLabels = []\n",
    "for i in range(1, depth+2):\n",
    "    wordLabels.append(db.labels.create(\"WordLevel\"+str(i)) )\n",
    " \n",
    "## recursive function to find words ranked by cosine distance adding them to the Database\n",
    "def process_word(thisWord, thisDepth):\n",
    "    # Add the word to the DB\n",
    "    wordLabels[thisDepth].add(thisWord)\n",
    "    # Find similar words\n",
    "    words = model.similar_by_word(thisWord.get(key='title'), topn=width)\n",
    " \n",
    "    # Parse the similar words\n",
    "    nextDepth = thisDepth + 1\n",
    "    for word in words:\n",
    "        # Creates key to track if word exists in DB to keep the graph clean\n",
    "        key = re.sub('\\W+', '', word[0]).lower()\n",
    " \n",
    "        # Add word to DB\n",
    "        if key not in cachedWords:\n",
    "            dbWordNode = db.nodes.create(title=word[0])\n",
    "            cachedWords[key] = dbWordNode\n",
    "            dbWordNode.IS_SIMILAR(thisWord)\n",
    " \n",
    "            # Check for depth\n",
    "            if(nextDepth < depth):\n",
    "                process_word(dbWordNode, nextDepth)\n",
    "            else:\n",
    "                wordLabels[nextDepth].add(dbWordNode)\n",
    " \n",
    "      \n",
    "        else:\n",
    "            dbWordNode = cachedWords[key]\n",
    "            if(dbWordNode is not thisWord):\n",
    "                dbWordNode.IS_SIMILAR(thisWord)\n",
    " \n",
    " \n",
    " \n",
    "\n",
    "cachedWords[rootWord] = db.nodes.create(title=rootWord)\n",
    "process_word(cachedWords[rootWord], 0)"
   ]
  },
  {
   "cell_type": "code",
   "execution_count": null,
   "metadata": {
    "collapsed": true
   },
   "outputs": [],
   "source": []
  }
 ],
 "metadata": {
  "kernelspec": {
   "display_name": "Python 3",
   "language": "python",
   "name": "python3"
  },
  "language_info": {
   "codemirror_mode": {
    "name": "ipython",
    "version": 3
   },
   "file_extension": ".py",
   "mimetype": "text/x-python",
   "name": "python",
   "nbconvert_exporter": "python",
   "pygments_lexer": "ipython3",
   "version": "3.6.2"
  }
 },
 "nbformat": 4,
 "nbformat_minor": 1
}
