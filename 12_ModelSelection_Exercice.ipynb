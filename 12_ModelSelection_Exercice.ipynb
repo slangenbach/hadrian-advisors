{
 "cells": [
  {
   "cell_type": "markdown",
   "metadata": {},
   "source": [
    "\n",
    "![Logo_Hadrian_defaut.png](attachment:Logo_Hadrian_defaut.png)\n",
    "\n",
    "![generali-fit-250x200-90.jpg](attachment:generali-fit-250x200-90.jpg)"
   ]
  },
  {
   "cell_type": "markdown",
   "metadata": {},
   "source": [
    "# Life Insurance usecase"
   ]
  },
  {
   "cell_type": "markdown",
   "metadata": {},
   "source": [
    "# Review of Python Functions for Machine Learning and Model Selection  <a href=\"https://www.python.org/\"><img src=\"https://upload.wikimedia.org/wikipedia/commons/thumb/f/f8/Python_logo_and_wordmark.svg/390px-Python_logo_and_wordmark.svg.png\" style=\"max-width: 120px; display: inline\" alt=\"Python\"/></a> Predict the \"Response\" variable for each Id."
   ]
  },
  {
   "cell_type": "markdown",
   "metadata": {},
   "source": [
    "## Introduction\n",
    "### Data\n",
    "\n",
    "Num| Name |\tValues\n",
    "-|--|--|--\n",
    "1|`Id`|\tint\n",
    "2|\t`Product_Info_1`|\treal\n",
    "3|\t`Product_Info_2`|\t'D3', 'A1', 'E1', 'D4', 'D2', 'A8', 'A2', 'D1', 'A7', 'A6', 'A3','A5', 'C4', 'C1', 'B2', 'C3', 'C2', 'A4', 'B1'\n",
    "4|\t`Product_Info_3`|\tinteger\n",
    "5|\t`Product_Info_4`|\treal\n",
    "6|\t`Product_Info_5`|\tinteger 2, 3\n",
    "7|\t`Product_Info_6`|\tinteger 1, 3\n",
    "8|\t`Product_Info_7`|\tinteger 1, 2, 3\n",
    "9|\t`Ins_Age`|\treal\n",
    "10|\t`Ht`|\treal\n",
    "11|\t`Wt`|\treal  \n",
    "12|\t`BMI`|\treal\n",
    "-|--|--|--\n",
    "13|\t`Medical_Keyword_`|\tint 1/0\n",
    "14|\t`Response`|\tinteger 1 -> 8\n"
   ]
  },
  {
   "cell_type": "markdown",
   "metadata": {},
   "source": [
    "## 1 Data Preparation\n",
    "### 1.1 Lecture  \n",
    "\n",
    "Load the [data] in the current path (`path=\"\"`) or directly execute the cell."
   ]
  },
  {
   "cell_type": "code",
   "execution_count": 1,
   "metadata": {},
   "outputs": [
    {
     "name": "stdout",
     "output_type": "stream",
     "text": [
      "0.19.0\n"
     ]
    }
   ],
   "source": [
    "import sklearn\n",
    "print(sklearn.__version__)"
   ]
  },
  {
   "cell_type": "code",
   "execution_count": 2,
   "metadata": {},
   "outputs": [
    {
     "data": {
      "text/html": [
       "<div>\n",
       "<style>\n",
       "    .dataframe thead tr:only-child th {\n",
       "        text-align: right;\n",
       "    }\n",
       "\n",
       "    .dataframe thead th {\n",
       "        text-align: left;\n",
       "    }\n",
       "\n",
       "    .dataframe tbody tr th {\n",
       "        vertical-align: top;\n",
       "    }\n",
       "</style>\n",
       "<table border=\"1\" class=\"dataframe\">\n",
       "  <thead>\n",
       "    <tr style=\"text-align: right;\">\n",
       "      <th></th>\n",
       "      <th>Product_Info_1</th>\n",
       "      <th>Product_Info_3</th>\n",
       "      <th>Product_Info_4</th>\n",
       "      <th>Product_Info_5</th>\n",
       "      <th>Product_Info_6</th>\n",
       "      <th>Product_Info_7</th>\n",
       "      <th>Ins_Age</th>\n",
       "      <th>Ht</th>\n",
       "      <th>Wt</th>\n",
       "      <th>BMI</th>\n",
       "      <th>...</th>\n",
       "      <th>Product_Info_2_B2</th>\n",
       "      <th>Product_Info_2_C1</th>\n",
       "      <th>Product_Info_2_C2</th>\n",
       "      <th>Product_Info_2_C3</th>\n",
       "      <th>Product_Info_2_D1</th>\n",
       "      <th>Product_Info_2_D2</th>\n",
       "      <th>Product_Info_2_D3</th>\n",
       "      <th>Product_Info_2_D4</th>\n",
       "      <th>Product_Info_2_E1</th>\n",
       "      <th>Response</th>\n",
       "    </tr>\n",
       "  </thead>\n",
       "  <tbody>\n",
       "    <tr>\n",
       "      <th>0</th>\n",
       "      <td>0.0</td>\n",
       "      <td>4.514923</td>\n",
       "      <td>0.271576</td>\n",
       "      <td>0.0</td>\n",
       "      <td>2.747143</td>\n",
       "      <td>0.0</td>\n",
       "      <td>3.332864</td>\n",
       "      <td>4.163054</td>\n",
       "      <td>2.518814</td>\n",
       "      <td>2.853852</td>\n",
       "      <td>...</td>\n",
       "      <td>0.0</td>\n",
       "      <td>0.0</td>\n",
       "      <td>0.0</td>\n",
       "      <td>0.0</td>\n",
       "      <td>3.2421</td>\n",
       "      <td>0.0</td>\n",
       "      <td>0.0</td>\n",
       "      <td>0.000000</td>\n",
       "      <td>0.0</td>\n",
       "      <td>0.0</td>\n",
       "    </tr>\n",
       "    <tr>\n",
       "      <th>1</th>\n",
       "      <td>0.0</td>\n",
       "      <td>4.514923</td>\n",
       "      <td>0.814729</td>\n",
       "      <td>0.0</td>\n",
       "      <td>2.747143</td>\n",
       "      <td>0.0</td>\n",
       "      <td>1.287698</td>\n",
       "      <td>4.407940</td>\n",
       "      <td>2.332235</td>\n",
       "      <td>2.456277</td>\n",
       "      <td>...</td>\n",
       "      <td>0.0</td>\n",
       "      <td>0.0</td>\n",
       "      <td>0.0</td>\n",
       "      <td>0.0</td>\n",
       "      <td>0.0000</td>\n",
       "      <td>0.0</td>\n",
       "      <td>0.0</td>\n",
       "      <td>2.581342</td>\n",
       "      <td>0.0</td>\n",
       "      <td>1.0</td>\n",
       "    </tr>\n",
       "    <tr>\n",
       "      <th>2</th>\n",
       "      <td>0.0</td>\n",
       "      <td>4.514923</td>\n",
       "      <td>0.271576</td>\n",
       "      <td>0.0</td>\n",
       "      <td>2.747143</td>\n",
       "      <td>0.0</td>\n",
       "      <td>2.120914</td>\n",
       "      <td>3.673283</td>\n",
       "      <td>0.699670</td>\n",
       "      <td>0.769136</td>\n",
       "      <td>...</td>\n",
       "      <td>0.0</td>\n",
       "      <td>0.0</td>\n",
       "      <td>0.0</td>\n",
       "      <td>0.0</td>\n",
       "      <td>3.2421</td>\n",
       "      <td>0.0</td>\n",
       "      <td>0.0</td>\n",
       "      <td>0.000000</td>\n",
       "      <td>0.0</td>\n",
       "      <td>1.0</td>\n",
       "    </tr>\n",
       "    <tr>\n",
       "      <th>3</th>\n",
       "      <td>0.0</td>\n",
       "      <td>4.514923</td>\n",
       "      <td>0.814729</td>\n",
       "      <td>0.0</td>\n",
       "      <td>2.747143</td>\n",
       "      <td>0.0</td>\n",
       "      <td>0.681722</td>\n",
       "      <td>4.163054</td>\n",
       "      <td>1.282729</td>\n",
       "      <td>1.289217</td>\n",
       "      <td>...</td>\n",
       "      <td>0.0</td>\n",
       "      <td>0.0</td>\n",
       "      <td>0.0</td>\n",
       "      <td>0.0</td>\n",
       "      <td>0.0000</td>\n",
       "      <td>0.0</td>\n",
       "      <td>0.0</td>\n",
       "      <td>2.581342</td>\n",
       "      <td>0.0</td>\n",
       "      <td>1.0</td>\n",
       "    </tr>\n",
       "    <tr>\n",
       "      <th>4</th>\n",
       "      <td>0.0</td>\n",
       "      <td>4.514923</td>\n",
       "      <td>0.271576</td>\n",
       "      <td>0.0</td>\n",
       "      <td>2.747143</td>\n",
       "      <td>0.0</td>\n",
       "      <td>2.045167</td>\n",
       "      <td>5.142597</td>\n",
       "      <td>1.515953</td>\n",
       "      <td>1.090129</td>\n",
       "      <td>...</td>\n",
       "      <td>0.0</td>\n",
       "      <td>0.0</td>\n",
       "      <td>0.0</td>\n",
       "      <td>0.0</td>\n",
       "      <td>3.2421</td>\n",
       "      <td>0.0</td>\n",
       "      <td>0.0</td>\n",
       "      <td>0.000000</td>\n",
       "      <td>0.0</td>\n",
       "      <td>0.0</td>\n",
       "    </tr>\n",
       "  </tbody>\n",
       "</table>\n",
       "<p>5 rows × 142 columns</p>\n",
       "</div>"
      ],
      "text/plain": [
       "   Product_Info_1  Product_Info_3  Product_Info_4  Product_Info_5  \\\n",
       "0             0.0        4.514923        0.271576             0.0   \n",
       "1             0.0        4.514923        0.814729             0.0   \n",
       "2             0.0        4.514923        0.271576             0.0   \n",
       "3             0.0        4.514923        0.814729             0.0   \n",
       "4             0.0        4.514923        0.271576             0.0   \n",
       "\n",
       "   Product_Info_6  Product_Info_7   Ins_Age        Ht        Wt       BMI  \\\n",
       "0        2.747143             0.0  3.332864  4.163054  2.518814  2.853852   \n",
       "1        2.747143             0.0  1.287698  4.407940  2.332235  2.456277   \n",
       "2        2.747143             0.0  2.120914  3.673283  0.699670  0.769136   \n",
       "3        2.747143             0.0  0.681722  4.163054  1.282729  1.289217   \n",
       "4        2.747143             0.0  2.045167  5.142597  1.515953  1.090129   \n",
       "\n",
       "     ...     Product_Info_2_B2  Product_Info_2_C1  Product_Info_2_C2  \\\n",
       "0    ...                   0.0                0.0                0.0   \n",
       "1    ...                   0.0                0.0                0.0   \n",
       "2    ...                   0.0                0.0                0.0   \n",
       "3    ...                   0.0                0.0                0.0   \n",
       "4    ...                   0.0                0.0                0.0   \n",
       "\n",
       "   Product_Info_2_C3  Product_Info_2_D1  Product_Info_2_D2  Product_Info_2_D3  \\\n",
       "0                0.0             3.2421                0.0                0.0   \n",
       "1                0.0             0.0000                0.0                0.0   \n",
       "2                0.0             3.2421                0.0                0.0   \n",
       "3                0.0             0.0000                0.0                0.0   \n",
       "4                0.0             3.2421                0.0                0.0   \n",
       "\n",
       "   Product_Info_2_D4  Product_Info_2_E1  Response  \n",
       "0           0.000000                0.0       0.0  \n",
       "1           2.581342                0.0       1.0  \n",
       "2           0.000000                0.0       1.0  \n",
       "3           2.581342                0.0       1.0  \n",
       "4           0.000000                0.0       0.0  \n",
       "\n",
       "[5 rows x 142 columns]"
      ]
     },
     "execution_count": 2,
     "metadata": {},
     "output_type": "execute_result"
    }
   ],
   "source": [
    "%matplotlib inline\n",
    "# Importations \n",
    "import matplotlib.pyplot as plt\n",
    "import matplotlib.gridspec as gridspec\n",
    "import pandas as pd\n",
    "import numpy as np\n",
    "\n",
    "path=\"\"\n",
    "TabTrain=pd.read_csv(path+'trainCourseWed_Sat.csv',index_col=0)\n",
    "TabTest=pd.read_csv(path+'testCourseWed_Sat.csv',index_col=0)\n",
    "TabTrain.head()"
   ]
  },
  {
   "cell_type": "code",
   "execution_count": 3,
   "metadata": {
    "collapsed": true
   },
   "outputs": [],
   "source": [
    "X_train2 = TabTrain.drop(['Response'],axis=1).values\n",
    "X_test2 = TabTest.drop(['Response'],axis=1).values\n",
    "Y_train = TabTrain['Response'].values\n",
    "Y_test = TabTest['Response'].values\n",
    "Labels = TabTrain.columns[:-1].tolist()"
   ]
  },
  {
   "cell_type": "markdown",
   "metadata": {},
   "source": [
    "## 2. Modelling and Parameters Tuning"
   ]
  },
  {
   "cell_type": "markdown",
   "metadata": {},
   "source": [
    "Here are some principles to systematically select final models. The lessons learnt are :\n",
    "\n",
    "- Choose a good error metric\n",
    "\n",
    "- Always do **cross-validation** to get a reliable metric. If you don’t, the validation score you get on a single validation set is unlikely to reflect the model performance in general. Then, you will likely see a model improvement in that single validation set, but actually performs worse in general. Keep in mind the CV score can be optimistic, but your model is still overfitting.\n",
    "\n",
    "- **Trust your CV score**, and not LB score. The leaderboard score is scored only on a small percentage of the full test set. In some cases, it’s only a few hundred test cases. Your cross-validation score will be much more reliable in general.\n",
    "\n",
    "- If your CV score is not stable (perhaps due to ensembling methods), you can **run your CV with more folds and multiple times** to take average.\n",
    "\n",
    "- If a single CV run is very slow, **use a subset of the data to run the CV**. This will help your CV loop to run faster. Of course, the subset should not be too small or else the CV score will not be representative.\n",
    "\n",
    "- **IN CASE OF SMALL DATASETS, DON'T PERFORM CV**, AS IT WOULD IMPROVE THE VARIANCE OF THE ESTIMATOR OF THE ERROR IN THE TEST SAMPLE; PREFER SOME MONTE-CARLO BOOTSTRAP TO REDUCE THE VARIANCE; KEEP A LARGE TRAINING SET TO REDUCE THE BIAS ON THE MODEL ESTIMATION;\n",
    "\n",
    "- **FOR LARGE DATASETS, PREFER A CROSS-VALIDATION**, AS THERE WOULD BE LESS VARIANCE ISSUES IN THE TEST SAMPLE; TO REDUCE THE BIAS, KEEP A LARGE TRAINING SET.\n",
    "\n",
    "- **For the final 2 models, pick very different models**. Picking two very similar solutions means that your solutions either fail together or win together, effectively meaning that you only pick one model. You should reduce your risk by picking two confident but very different models. You should not depend on the leaderboard score at all.\n",
    "\n",
    "- Try to group your solutions by methodologies. Then, pick the best CV score model from each group. Then compare these best candidates of each group, pick two.\n",
    "\n",
    "**Example**: \n",
    "I have different groups 1) Bagging of SVMs 2) RandomForest 3) Neural Networks 4) LinearModels. Then, each group should produce one single best model, then you pick 2 out of these.\n",
    "\n",
    "- Pick a robust methodology."
   ]
  },
  {
   "cell_type": "markdown",
   "metadata": {},
   "source": [
    "**NB** :\n",
    "Here we have a binary Output (1 0); We could use one of these metrics to evaluate the models :\n",
    "\n",
    "- mean squared error (MSE)\n",
    "- error classification\n",
    "- AUC (area under the curve)\n",
    "\n",
    "We choose AUC"
   ]
  },
  {
   "cell_type": "code",
   "execution_count": 4,
   "metadata": {
    "collapsed": true
   },
   "outputs": [],
   "source": [
    "from sklearn.metrics import mean_squared_error\n",
    "from sklearn.metrics import r2_score\n",
    "from sklearn.metrics import roc_auc_score"
   ]
  },
  {
   "cell_type": "code",
   "execution_count": 5,
   "metadata": {
    "collapsed": true
   },
   "outputs": [],
   "source": [
    "def PrintErrorsAndR2(prev,Y_test):\n",
    "    \"\"\"\n",
    "    Print the Mean squared error and the R2 statistic\n",
    "    \"\"\"\n",
    "    prev = np.round(prev)\n",
    "    print(\"MSE=\",mean_squared_error(prev,Y_test))\n",
    "    print(\"R2=\",r2_score(Y_test,prev))"
   ]
  },
  {
   "cell_type": "code",
   "execution_count": 6,
   "metadata": {
    "collapsed": true
   },
   "outputs": [],
   "source": [
    "def PrintAUCScore(proba,Y_test):\n",
    "    \"\"\"\n",
    "    Print the AUC error\n",
    "    \"\"\"\n",
    "    print(\"AUC=\",roc_auc_score(Y_test,proba))\n"
   ]
  },
  {
   "cell_type": "code",
   "execution_count": 7,
   "metadata": {
    "collapsed": true
   },
   "outputs": [],
   "source": [
    "def PlotOOBError(paramName,algOpt):\n",
    "    ## Function that plots the validation error curve over the parameters of Grid Search\n",
    "\n",
    "    Results = algOpt.cv_results_\n",
    "\n",
    "    ListGridParams = Results['param_' + paramName].data\n",
    "    ListTestSplit = [testsplit for testsplit in Results.keys() if 'split' in testsplit and 'test' in testsplit]\n",
    "\n",
    "    TabTestScores = [Results[testscores] for testscores in ListTestSplit]\n",
    "    TabTestScores = np.vstack(TabTestScores)\n",
    "    TabTestScores = np.mean(1-TabTestScores,axis=0)\n",
    "\n",
    "    TabTestScores = pd.Series(TabTestScores,name = 'Out Of Bag Error', index = ListGridParams)\n",
    "    TabTestScores.index.name = 'Grid_' +paramName\n",
    "    TabTestScores.sort_index(inplace=True)\n",
    "    TabTestScores.plot(title = 'Out ot Bag Error', figsize=(12,6), kind='line')"
   ]
  },
  {
   "cell_type": "markdown",
   "metadata": {},
   "source": [
    "### 2.1 Linear Models"
   ]
  },
  {
   "cell_type": "markdown",
   "metadata": {},
   "source": [
    "#### LASSO Regression"
   ]
  },
  {
   "cell_type": "markdown",
   "metadata": {},
   "source": [
    "The **Lasso** is a linear model that estimates sparse coefficients. It is useful in some contexts due to its tendency to prefer solutions with fewer parameter values, effectively reducing the number of variables upon which the given solution is dependent.\n",
    "\n",
    "#### Formulation\n",
    "$$\\beta Opt =  arg\\min_{\\beta}||X\\beta - y||_{2}^2 + \\alpha||\\beta||_{1} $$\n",
    "The lasso estimate thus solves the minimization of the least-squares penalty with $\\alpha$ $||w||_{1}$ added, where $\\alpha$ is a constant and $||w||_{1}$ is the $L_{1}$-norm of the parameter vector.\n"
   ]
  },
  {
   "cell_type": "code",
   "execution_count": 8,
   "metadata": {
    "collapsed": true
   },
   "outputs": [],
   "source": [
    "from sklearn import linear_model\n",
    "regLasso = linear_model.Lasso()\n",
    "regLasso = regLasso.fit(X_train2,Y_train)\n",
    "prev=regLasso.predict(X_test2)"
   ]
  },
  {
   "cell_type": "code",
   "execution_count": 9,
   "metadata": {},
   "outputs": [
    {
     "name": "stdout",
     "output_type": "stream",
     "text": [
      "MSE= 0.242\n",
      "R2= -0.31926121372\n"
     ]
    }
   ],
   "source": [
    "PrintErrorsAndR2(prev,Y_test)"
   ]
  },
  {
   "cell_type": "code",
   "execution_count": 10,
   "metadata": {},
   "outputs": [
    {
     "name": "stdout",
     "output_type": "stream",
     "text": [
      "AUC= 0.5\n"
     ]
    }
   ],
   "source": [
    "PrintAUCScore(prev,Y_test)"
   ]
  },
  {
   "cell_type": "markdown",
   "metadata": {},
   "source": [
    "$\\alpha $ **Optimization**"
   ]
  },
  {
   "cell_type": "markdown",
   "metadata": {},
   "source": [
    "The regularization parameter $\\alpha$ is tuned using cross validation.\n"
   ]
  },
  {
   "cell_type": "code",
   "execution_count": 139,
   "metadata": {},
   "outputs": [
    {
     "name": "stdout",
     "output_type": "stream",
     "text": [
      "Best R2 = -0.146912, Best parameter = {'alpha': 0.01}\n"
     ]
    }
   ],
   "source": [
    "from sklearn.model_selection import GridSearchCV\n",
    "\n",
    "#  Alpha Parameter Grid\n",
    "param=[{\"alpha\":[0.01,0.02,0.05,0.1,0.2,0.3,0.4,0.5,1]}]\n",
    "\n",
    "regLasso = GridSearchCV(linear_model.Lasso(), param,scoring = 'mean_squared_error',cv=5,n_jobs=-2)\n",
    "regLassoOpt=regLasso.fit(X_train2, Y_train)\n",
    "\n",
    "# Optimal parameter\n",
    "regLassoOpt.best_params_[\"alpha\"]\n",
    "print(\"Best R2 = %f, Best parameter = %s\" % (regLassOpt.best_score_,regLassOpt.best_params_))"
   ]
  },
  {
   "cell_type": "code",
   "execution_count": 140,
   "metadata": {},
   "outputs": [
    {
     "data": {
      "image/png": "[encoded data removed]",
      "text/plain": [
       "<matplotlib.figure.Figure at 0xb1482e8>"
      ]
     },
     "metadata": {},
     "output_type": "display_data"
    }
   ],
   "source": [
    "## Function that plots the validation error curve over the parameters of Grid Search\n",
    "paramName = 'alpha'\n",
    "PlotOOBError(paramName,regLassOpt)"
   ]
  },
  {
   "cell_type": "code",
   "execution_count": 141,
   "metadata": {
    "collapsed": true
   },
   "outputs": [],
   "source": [
    "prevRaw=regLassOpt.predict(X_test2)\n",
    "prev = np.round(prevRaw)"
   ]
  },
  {
   "cell_type": "code",
   "execution_count": 142,
   "metadata": {},
   "outputs": [
    {
     "name": "stdout",
     "output_type": "stream",
     "text": [
      "MSE= 0.198\n",
      "R2= -0.0793955384984\n"
     ]
    }
   ],
   "source": [
    "PrintErrorsAndR2(prev,Y_test)"
   ]
  },
  {
   "cell_type": "code",
   "execution_count": 143,
   "metadata": {},
   "outputs": [
    {
     "name": "stdout",
     "output_type": "stream",
     "text": [
      "AUC= 0.773850280207\n"
     ]
    }
   ],
   "source": [
    "PrintAUCScore(prevRaw,Y_test)"
   ]
  },
  {
   "cell_type": "markdown",
   "metadata": {},
   "source": [
    "The following graph enables to identify good and bad predictions."
   ]
  },
  {
   "cell_type": "code",
   "execution_count": 144,
   "metadata": {},
   "outputs": [
    {
     "data": {
      "image/png": "[encoded data removed]",
      "text/plain": [
       "<matplotlib.figure.Figure at 0xb8cd2e8>"
      ]
     },
     "metadata": {},
     "output_type": "display_data"
    }
   ],
   "source": [
    "plt.plot(prevRaw,Y_test,\"o\")\n",
    "plt.xlabel(u\"Predicted values\")\n",
    "plt.ylabel(u\"Observed values\")\n",
    "plt.hlines(0,0,2)\n",
    "plt.vlines(0,0,2)\n",
    "plt.show()"
   ]
  },
  {
   "cell_type": "code",
   "execution_count": 18,
   "metadata": {},
   "outputs": [
    {
     "name": "stdout",
     "output_type": "stream",
     "text": [
      "col_0  0.0  1.0\n",
      "row_0          \n",
      "0.0     43   21\n",
      "1.0     78  358\n"
     ]
    }
   ],
   "source": [
    "# Confusion Matrix\n",
    "table=pd.crosstab(np.round(prev),Y_test)\n",
    "print(table)"
   ]
  },
  {
   "cell_type": "markdown",
   "metadata": {},
   "source": [
    "*Scikit-learn* has other regularization parameter optimization processes; `lassoCV` uses a *coordinate descent* algorithm, without derivative computation as the *l1* norm is not differentiable, whereas `lassoLarsCV` is based on *least angle regression*. Here is an example on `lassoCV`.\n",
    "\n",
    "** Exercice ** :\n",
    "Execute 10-folds LassoCV then 10-folds LassoLarsCV, grid searching on 7 values of $\\alpha$ between 0.01 and 1.0. Use an AUC scoring.\n",
    "Compare the results on X_test. Which one is the best?"
   ]
  },
  {
   "cell_type": "code",
   "execution_count": 46,
   "metadata": {
    "collapsed": true
   },
   "outputs": [],
   "source": [
    "from sklearn.linear_model import LassoCV, LassoLarsCV"
   ]
  },
  {
   "cell_type": "code",
   "execution_count": 47,
   "metadata": {
    "collapsed": true
   },
   "outputs": [],
   "source": [
    "def ComputeLASSOLARSCVandLASSOCV(X_train,Y_train,X_test):\n",
    "    \"\"\"\n",
    "    Computes LASSOCV and LASSOLARSCV models on X_train and Y_train, then predicts on X_test\n",
    "    \n",
    "    Arguments:\n",
    "    X_train -- training set\n",
    "    Y_train -- output vector\n",
    "    X_test -- test set\n",
    "    \n",
    "    Returns:\n",
    "    predLASSO -- LASSO prediction\n",
    "    predLASSOLARS -- LASSOLARS prediction\n",
    "    \n",
    "    \"\"\"\n",
    "    \n",
    "    ####################### YOUR CODE ############################\n",
    "    alphas = [0.01, 0.05, 0.1, 0.2, 0.5, 1.0]\n",
    "    model = LassoCV(alphas=alphas, n_alphas=7, cv=10).fit(X_train, Y_train)\n",
    "    modelLARS = LassoLarsCV(cv=10).fit(X_train, Y_train)\n",
    "    predLASSO = model.predict(X_test)\n",
    "    predLASSOLARS = modelLARS.predict(X_test)\n",
    "    ############################ END OF THE CODE ##########################\n",
    "    \n",
    "    return model, modelLARS, predLASSO, predLASSOLARS\n"
   ]
  },
  {
   "cell_type": "code",
   "execution_count": 48,
   "metadata": {
    "collapsed": true
   },
   "outputs": [],
   "source": [
    "model, modelLARS, predLASSO, predLASSOLARS = ComputeLASSOLARSCVandLASSOCV(X_train2,Y_train,X_test2)"
   ]
  },
  {
   "cell_type": "code",
   "execution_count": 49,
   "metadata": {},
   "outputs": [
    {
     "name": "stdout",
     "output_type": "stream",
     "text": [
      "Results for LASSOCV :\n",
      "MSE= 0.198\n",
      "R2= -0.0793955384984\n",
      "Results for LASSOLARSCV :\n",
      "MSE= 0.218\n",
      "R2= -0.188425390872\n"
     ]
    }
   ],
   "source": [
    "print('Results for LASSOCV :')\n",
    "PrintErrorsAndR2(predLASSO,Y_test)\n",
    "print\n",
    "print('Results for LASSOLARSCV :')\n",
    "PrintErrorsAndR2(predLASSOLARS,Y_test)"
   ]
  },
  {
   "cell_type": "markdown",
   "metadata": {},
   "source": [
    "### 2.2. GLM : Logistic Regression"
   ]
  },
  {
   "cell_type": "markdown",
   "metadata": {},
   "source": [
    "That old method is still used very often. First because we are used to, but also for its efficiency in processing big datasets, like in Criteo or CDiscount.\n",
    "\n",
    "\n",
    "The process of model selection is done by penalty : **Ridge** (**L2-norm**), or **Lasso** (**L1-norm**). We want to choose one of these regularizations, the same way we did before on the LASSO model.\n",
    "\n",
    "Here, again, we have to find the optimal **C** for regularization."
   ]
  },
  {
   "cell_type": "markdown",
   "metadata": {},
   "source": [
    "#### L1 OPTIMIZATION"
   ]
  },
  {
   "cell_type": "code",
   "execution_count": 50,
   "metadata": {
    "collapsed": true
   },
   "outputs": [],
   "source": [
    "from sklearn.linear_model import LogisticRegression"
   ]
  },
  {
   "cell_type": "code",
   "execution_count": 51,
   "metadata": {},
   "outputs": [
    {
     "name": "stdout",
     "output_type": "stream",
     "text": [
      "Best score = 0.222153, Best parameter = {'C': 10}\n"
     ]
    }
   ],
   "source": [
    "# Param Grids\n",
    "param=[{\"C\":[0.01,0.05,0.1,0.5,1,5,10]}]\n",
    "logitL = GridSearchCV(LogisticRegression(penalty=\"l1\"), param, scoring='f1_weighted',cv=5,n_jobs=-3)\n",
    "logitLasso=logitL.fit(X_train2, Y_train)\n",
    "\n",
    "# Optimal Parameter\n",
    "logitLasso.best_params_[\"C\"]\n",
    "print(\"Best score = %f, Best parameter = %s\" %\n",
    "      (1.-logitLasso.best_score_,logitLasso.best_params_))"
   ]
  },
  {
   "cell_type": "code",
   "execution_count": 52,
   "metadata": {},
   "outputs": [
    {
     "data": {
      "image/png": "[encoded data removed]",
      "text/plain": [
       "<matplotlib.figure.Figure at 0xb192c88>"
      ]
     },
     "metadata": {},
     "output_type": "display_data"
    }
   ],
   "source": [
    "paramName = 'C'\n",
    "PlotOOBError(paramName,logitLasso)"
   ]
  },
  {
   "cell_type": "code",
   "execution_count": 53,
   "metadata": {
    "collapsed": true
   },
   "outputs": [],
   "source": [
    "from sklearn.metrics import confusion_matrix"
   ]
  },
  {
   "cell_type": "code",
   "execution_count": 56,
   "metadata": {},
   "outputs": [
    {
     "name": "stdout",
     "output_type": "stream",
     "text": [
      "[[ 58  52]\n",
      " [ 63 327]]\n",
      "Error on test LASSO logistic regression = 0.233831\n"
     ]
    }
   ],
   "source": [
    "# Prediction\n",
    "Y_chap = logitLasso.predict(X_test2)\n",
    "# Confusion matrix\n",
    "table=pd.crosstab(Y_chap,Y_test)\n",
    "#print(table)\n",
    "print(confusion_matrix(Y_chap, Y_test))\n",
    "# Error on test sample\n",
    "print(\"Error on test LASSO logistic regression = %f\" % (1-logitLasso.score(X_test2, Y_test)))"
   ]
  },
  {
   "cell_type": "markdown",
   "metadata": {},
   "source": [
    "#### L2 OPTIMIZATION "
   ]
  },
  {
   "cell_type": "code",
   "execution_count": 63,
   "metadata": {},
   "outputs": [
    {
     "name": "stdout",
     "output_type": "stream",
     "text": [
      "Best score = 0.221351, Best parameter = {'C': 20}\n"
     ]
    }
   ],
   "source": [
    "# Param Grids\n",
    "param=[{\"C\":[0.01,0.05,0.1,0.5,1,5,10,20]}]\n",
    "logitR = GridSearchCV(LogisticRegression(penalty=\"l2\"), param, scoring='f1_weighted', cv=5,n_jobs=-3)\n",
    "logitRidge=logitR.fit(X_train2, Y_train) \n",
    "\n",
    "# Optimal Parameter\n",
    "logitRidge.best_params_[\"C\"]\n",
    "print(\"Best score = %f, Best parameter = %s\" % (1.-logitRidge.best_score_,logitRidge.best_params_))"
   ]
  },
  {
   "cell_type": "code",
   "execution_count": 64,
   "metadata": {},
   "outputs": [
    {
     "name": "stdout",
     "output_type": "stream",
     "text": [
      "col_0  0.0  1.0\n",
      "row_0          \n",
      "0.0     59   55\n",
      "1.0     62  324\n",
      "Error on test RIDGE logistic regression = 0.236415\n"
     ]
    }
   ],
   "source": [
    "# Prediction\n",
    "Y_chap = logitRidge.predict(X_test2)\n",
    "# Confusion matrix\n",
    "table=pd.crosstab(Y_chap,Y_test)\n",
    "print(table)\n",
    "# Error on test sample\n",
    "print(\"Error on test RIDGE logistic regression = %f\" % (1-logitRidge.score(X_test2, Y_test)))"
   ]
  },
  {
   "cell_type": "code",
   "execution_count": 65,
   "metadata": {},
   "outputs": [
    {
     "data": {
      "image/png": "[encoded data removed]",
      "text/plain": [
       "<matplotlib.figure.Figure at 0xb66fda0>"
      ]
     },
     "metadata": {},
     "output_type": "display_data"
    }
   ],
   "source": [
    "paramName = 'C'\n",
    "PlotOOBError(paramName,logitRidge)"
   ]
  },
  {
   "cell_type": "markdown",
   "metadata": {},
   "source": [
    "** Exercice ** : Implement the code below that chooses the optimal penalty between L1 and L2, and the optimal C, by cross-validation (GridSearchCV)."
   ]
  },
  {
   "cell_type": "code",
   "execution_count": 80,
   "metadata": {
    "collapsed": true
   },
   "outputs": [],
   "source": [
    "def ChooseBestLogisticRegularizer(X_train,Y_train):\n",
    "    \n",
    "    ## Param Grid\n",
    "    ############## ENTER THE CODE ##################\n",
    "    params = {\n",
    "            'penalty':['l1', 'l2'],\n",
    "            'C':[0.01,0.05,0.1,0.5,1,5,10,20]\n",
    "    }\n",
    "    ############## END OF THE CODE ###################\n",
    "    \n",
    "    ## GridSearch\n",
    "    ############## ENTER THE CODE ##################\n",
    "    logit = GridSearchCV(LogisticRegression(), param_grid=params, scoring=\"f1_weighted\", cv=5, n_jobs=-1)\n",
    "    logitOpt = logit.fit(X_train, Y_train)\n",
    "    ############## END OF THE CODE ###################\n",
    "    \n",
    "    # Optimal Parameter\n",
    "    penaltyOpt = logitOpt.best_params_[\"penalty\"]\n",
    "    COpt = logitOpt.best_params_[\"C\"]\n",
    "    return logitOpt, penaltyOpt, COpt"
   ]
  },
  {
   "cell_type": "code",
   "execution_count": 81,
   "metadata": {
    "collapsed": true
   },
   "outputs": [],
   "source": [
    "logitOpt, penaltyOpt, COpt = ChooseBestLogisticRegularizer(X_train2,Y_train)"
   ]
  },
  {
   "cell_type": "code",
   "execution_count": 82,
   "metadata": {},
   "outputs": [
    {
     "name": "stdout",
     "output_type": "stream",
     "text": [
      "Best Penalty for Logistic Regression here : \n",
      "l2\n",
      "Best regularizer C for Logistic Regression here : \n",
      "20\n"
     ]
    }
   ],
   "source": [
    "print(\"Best Penalty for Logistic Regression here : \")\n",
    "print(penaltyOpt)\n",
    "print(\"Best regularizer C for Logistic Regression here : \")\n",
    "print(COpt)"
   ]
  },
  {
   "cell_type": "markdown",
   "metadata": {},
   "source": [
    "Now that we have our optimal logistic regression model, let's take a look at some other."
   ]
  },
  {
   "cell_type": "markdown",
   "metadata": {},
   "source": [
    "### 2.2 Supervised K Nearest Neighbors"
   ]
  },
  {
   "cell_type": "markdown",
   "metadata": {},
   "source": [
    "The **k-nearest neighbors algorithm** (**k-NN**) is a non-parametric method used for classification and regression. In both cases, the input consists of the k closest training examples in the feature space. The output depends on whether k-NN is used for classification or regression.\n",
    "\n",
    "- In k-NN classification, the output is a class membership. An object is classified by a majority vote of its neighbors, with the object being assigned to the class most common among its k nearest neighbors (k is a positive integer, typically small). If k = 1, then the object is simply assigned to the class of that single nearest neighbor.\n",
    "\n",
    "- In k-NN regression, the output is the property value for the object. This value is the average of the values of its k nearest neighbors.\n",
    "\n",
    "\n",
    "Here is a case of application of discriminant analysis (http://scikit-learn.org/stable/modules/neighbors.html) \n",
    "\n",
    "The complexity parameter is optimized on a predefined grid by minimizing the cross validation error; scikit-learn proposes many cross-validation options."
   ]
  },
  {
   "cell_type": "code",
   "execution_count": 83,
   "metadata": {
    "collapsed": true
   },
   "outputs": [],
   "source": [
    "from sklearn.neighbors import KNeighborsClassifier"
   ]
  },
  {
   "cell_type": "code",
   "execution_count": 84,
   "metadata": {},
   "outputs": [
    {
     "name": "stdout",
     "output_type": "stream",
     "text": [
      "MSE= 0.264\n",
      "R2= -0.439194051331\n"
     ]
    }
   ],
   "source": [
    "knn = KNeighborsClassifier(n_neighbors=3)\n",
    "knn.fit(X_train2, Y_train)\n",
    "prevKNN = knn.predict(X_test2)\n",
    "PrintErrorsAndR2(prevKNN,Y_test)"
   ]
  },
  {
   "cell_type": "markdown",
   "metadata": {},
   "source": [
    "** Exercice ** :\n",
    "Execute 5-folds GridSearch on KNeighborsClassifier, grid searching on 15 values of *n_neighbors* between 1 and 15.\n",
    "Print the best parameter."
   ]
  },
  {
   "cell_type": "code",
   "execution_count": 97,
   "metadata": {
    "collapsed": true
   },
   "outputs": [],
   "source": [
    "def GridSearchKNN(X_train,Y_train):\n",
    "    \"\"\"\n",
    "    Grid search method to find optimal k for knn classification\n",
    "    \n",
    "    Arguments:\n",
    "    X_train -- training set\n",
    "    Y_train -- output vector\n",
    "    \n",
    "    Returns:\n",
    "    knnOpt -- trained GridSearch for KNeighborsClassifier model on 15 values of n_neighbors between 1 and 15\n",
    "    bestScore -- best prediction score\n",
    "    bestParam -- optimal number of neighbors\n",
    "    \n",
    "    \"\"\"\n",
    "    \n",
    "    # Tuning k\n",
    "    # Parameters Grid\n",
    "    param_grid=[{\"n_neighbors\":list(range(1,14))}]\n",
    "    \n",
    "    knnOpt = None\n",
    "    ## GridSearch fitting on KNeighbors Classifier\n",
    "    ############################### START YOUR CODE HERE ###############################\n",
    "    knnCV = GridSearchCV(knn, param_grid=param_grid, cv=5, scoring=\"f1_weighted\", n_jobs=-1)\n",
    "    knnOpt = knnCV.fit(X_train, Y_train)\n",
    "    ############################### END OF THE CODE ###############################\n",
    "    \n",
    "    # Optimal parameter\n",
    "    ## Get the best score and the best parameters\n",
    "    ############################### START YOUR CODE HERE ###############################\n",
    "    bestScore = knnOpt.best_score_\n",
    "    bestParam = knnOpt.best_params_\n",
    "    ############################### END OF THE CODE ###############################\n",
    "    print(\"Best score = %f, Best parameter = %s\" % (bestScore,bestParam))\n",
    "    \n",
    "    return knnOpt, bestScore, bestParam"
   ]
  },
  {
   "cell_type": "code",
   "execution_count": 93,
   "metadata": {},
   "outputs": [
    {
     "name": "stdout",
     "output_type": "stream",
     "text": [
      "Best score = 0.727403, Best parameter = {'n_neighbors': 6}\n"
     ]
    }
   ],
   "source": [
    "knnOpt, bestScore, bestParam = GridSearchKNN(X_train2,Y_train)"
   ]
  },
  {
   "cell_type": "code",
   "execution_count": 94,
   "metadata": {},
   "outputs": [
    {
     "data": {
      "image/png": "[encoded data removed]",
      "text/plain": [
       "<matplotlib.figure.Figure at 0xb743f28>"
      ]
     },
     "metadata": {},
     "output_type": "display_data"
    }
   ],
   "source": [
    "paramName = 'n_neighbors'\n",
    "PlotOOBError(paramName,knnOpt)"
   ]
  },
  {
   "cell_type": "markdown",
   "metadata": {},
   "source": [
    "**Exercice** :\n",
    "If k >= 13, relaunch the GridSearch for higher parameters in the grid."
   ]
  },
  {
   "cell_type": "code",
   "execution_count": 95,
   "metadata": {},
   "outputs": [
    {
     "name": "stdout",
     "output_type": "stream",
     "text": [
      "col_0  0.0  1.0\n",
      "row_0          \n",
      "0.0     31   48\n",
      "1.0     90  331\n"
     ]
    }
   ],
   "source": [
    "# Prediction\n",
    "y_chap = knnOpt.predict(X_test2)\n",
    "y_chapC = np.round(y_chap)\n",
    "# Confusion matrix\n",
    "table=pd.crosstab(y_chapC,Y_test)\n",
    "print(table)"
   ]
  },
  {
   "cell_type": "code",
   "execution_count": 96,
   "metadata": {},
   "outputs": [
    {
     "name": "stdout",
     "output_type": "stream",
     "text": [
      "MSE= 0.276\n",
      "R2= -0.504611962755\n"
     ]
    }
   ],
   "source": [
    "PrintErrorsAndR2(y_chap,Y_test)"
   ]
  },
  {
   "cell_type": "markdown",
   "metadata": {},
   "source": [
    "### 2.3. Classification Tree"
   ]
  },
  {
   "cell_type": "markdown",
   "metadata": {},
   "source": [
    "The decision trees(http://scikit-learn.org/stable/modules/tree.html) are implemented in *scikit-learn* but is insufficient on pruning methods. It is not a *complexity* *penalization*, so instead of tuning the number of leaves, it tunes the global tree depth, at the risk of pruning, at a given depth, important leaves or keeping ambiguous leaves."
   ]
  },
  {
   "cell_type": "code",
   "execution_count": 98,
   "metadata": {
    "collapsed": true
   },
   "outputs": [],
   "source": [
    "from sklearn.tree import DecisionTreeClassifier"
   ]
  },
  {
   "cell_type": "code",
   "execution_count": 99,
   "metadata": {},
   "outputs": [
    {
     "name": "stdout",
     "output_type": "stream",
     "text": [
      "MSE= 0.296\n",
      "R2= -0.613641815129\n"
     ]
    }
   ],
   "source": [
    "tree = DecisionTreeClassifier()\n",
    "tree.fit(X_train2,Y_train)\n",
    "prevtree = tree.predict(X_test2)\n",
    "PrintErrorsAndR2(prevtree,Y_test)"
   ]
  },
  {
   "cell_type": "markdown",
   "metadata": {},
   "source": [
    "** We execute 10-folds GridSearch on DecisionTreeClassifier, grid searching on each value of *max_depth* between 2 and 20. **\n",
    "\n",
    "** We Print the best parameter. **"
   ]
  },
  {
   "cell_type": "code",
   "execution_count": 100,
   "metadata": {
    "collapsed": true
   },
   "outputs": [],
   "source": [
    "def GridSearchDecisionTree(X_train,Y_train):\n",
    "    \"\"\"\n",
    "    Grid search method to find optimal tree depth for decision tree\n",
    "    \n",
    "    Arguments:\n",
    "    X_train -- training set\n",
    "    Y_train -- output vector\n",
    "    \n",
    "    Returns:\n",
    "    treeOpt -- trained GridSearch for DecisionTreeClassifier model on each value of *max_depth* between 2 and 20\n",
    "    bestScore -- best prediction score\n",
    "    bestParam -- optimal depth of tree\n",
    "    \n",
    "    \"\"\"\n",
    "    \n",
    "    param=[]\n",
    "    param=[{\"max_depth\":list(range(2,21))}]\n",
    "    \n",
    "    treeOpt = None\n",
    "    tree = GridSearchCV(DecisionTreeClassifier(),param,cv=10,n_jobs=-2)\n",
    "    treeOpt=tree.fit(X_train, Y_train)\n",
    "    \n",
    "    # Optimal parameter\n",
    "    bestScore = treeOpt.best_score_\n",
    "    bestParam = treeOpt.best_params_\n",
    "    print(\"Best score = %f, Best parameter = %s\" % (bestScore,bestParam))\n",
    "    \n",
    "    return treeOpt, bestScore, bestParam"
   ]
  },
  {
   "cell_type": "code",
   "execution_count": 101,
   "metadata": {},
   "outputs": [
    {
     "name": "stdout",
     "output_type": "stream",
     "text": [
      "Best score = 0.816293, Best parameter = {'max_depth': 6}\n"
     ]
    }
   ],
   "source": [
    "treeOpt, bestScore, bestParam = GridSearchDecisionTree(X_train2,Y_train)"
   ]
  },
  {
   "cell_type": "code",
   "execution_count": 102,
   "metadata": {},
   "outputs": [
    {
     "data": {
      "image/png": "[encoded data removed]",
      "text/plain": [
       "<matplotlib.figure.Figure at 0xa7bbfd0>"
      ]
     },
     "metadata": {},
     "output_type": "display_data"
    }
   ],
   "source": [
    "paramName = 'max_depth'\n",
    "PlotOOBError(paramName,treeOpt)"
   ]
  },
  {
   "cell_type": "code",
   "execution_count": 103,
   "metadata": {},
   "outputs": [
    {
     "data": {
      "text/plain": [
       "0.19599999999999995"
      ]
     },
     "execution_count": 103,
     "metadata": {},
     "output_type": "execute_result"
    }
   ],
   "source": [
    "# Error on Test sample\n",
    "1-treeOpt.score(X_test2,Y_test)"
   ]
  },
  {
   "cell_type": "code",
   "execution_count": 104,
   "metadata": {},
   "outputs": [
    {
     "name": "stdout",
     "output_type": "stream",
     "text": [
      "col_0  0.0  1.0\n",
      "row_0          \n",
      "0.0     65   42\n",
      "1.0     56  337\n"
     ]
    }
   ],
   "source": [
    "# Prediction\n",
    "y_chap = treeOpt.predict(X_test2)\n",
    "y_chap = np.round(y_chap)\n",
    "# Confusion matrix\n",
    "table=pd.crosstab(y_chap,Y_test)\n",
    "print(table)"
   ]
  },
  {
   "cell_type": "markdown",
   "metadata": {},
   "source": [
    "### 2.5 Support Vector Machine"
   ]
  },
  {
   "cell_type": "markdown",
   "metadata": {},
   "source": [
    "Given training vectors x_i \\in $\\mathbb{R}^p$, i=1,…, n, in two classes, and a vector $y \\in \\{1, -1\\}^n$, SVC solves the following primal problem :\n",
    "$$ \\min_{w,b,\\zeta} \\frac{1}{2}w^Tw + C\\sum\\limits_{i=1}^{n}\\zeta_{i} $$\n",
    "\n",
    "$$ \\text{subject to } y_{i}(w^T\\phi(x_{i}) + b) >= 1 - \\zeta_{i} $$\n",
    "\n",
    "$$ \\zeta_{i}>=0, i=1,...,n $$\n",
    "\n",
    "Its dual is\n",
    "\n",
    "$$ \\min_{\\alpha}\\frac{1}{2}\\alpha^TQ\\alpha - e^T\\alpha $$\n",
    "\n",
    "$$ \\text{subject to } y^T\\alpha = 0 $$\n",
    "\n",
    "$$ 0 <= \\alpha_{i} <= C, i=1,...,n $$\n",
    "\n",
    "where $e$ is the vector of all ones, $C > 0$ is the upper bound, Q is a n yb n semi definite positive matrix such that $Q_{ij} = y_{i}y_{j}K(x_{i},x_{j})$ and $K(x_{i},x_{j})$ is the kernel function.\n",
    "\n",
    "The decision function is :\n",
    "\n",
    "$$ sign(\\sum\\limits_{i=1}^{n}y_{i}\\alpha_{i}K(x_{i},x) + \\rho) $$"
   ]
  },
  {
   "cell_type": "markdown",
   "metadata": {},
   "source": [
    "Many parameters for that method.\n",
    "\n",
    "**Exercice** :\n",
    "\n",
    "Here, we would use a non-linear kernel function, like the **radial basis function** (rbf), very useful in case of non linearly separable labels.\n",
    "\n",
    "*rbf*\n",
    ": $\\exp(-\\gamma \\|x-x'\\|^2)$. $\\gamma$ is specified by keyword **gamma**, must be greater than 0.\n",
    "\n",
    "**Tune the *C* parameter using cross-validation and tune the coefficient *gamma* for the  gaussian kernel (\"standard deviation\").**\n",
    "The parameter *C*, common to all SVM kernels, trades off misclassification of training examples against simplicity of the decision surface. A low *C* makes the decision surface smooth, while a high *C* aims at classifying all training examples correctly. *gamma* defines how much influence a single training example has. The larger *gamma* is, the closer other examples must be to be affected. Gamma must be inferior to 5 in order not to overfit on classes. \n",
    "\n"
   ]
  },
  {
   "cell_type": "code",
   "execution_count": 105,
   "metadata": {
    "collapsed": true
   },
   "outputs": [],
   "source": [
    "from sklearn.svm import SVC"
   ]
  },
  {
   "cell_type": "code",
   "execution_count": 120,
   "metadata": {
    "collapsed": true
   },
   "outputs": [],
   "source": [
    "def GridSearchSVMClassifier(X_train,Y_train):\n",
    "    \"\"\"\n",
    "    Grid search method to find optimal C and gamma  for SVC\n",
    "    \n",
    "    Arguments:\n",
    "    X_train -- training set\n",
    "    Y_train -- output vector\n",
    "    \n",
    "    Returns:\n",
    "    svmOpt -- trained GridSearch for SVC model on a grid of *C* and *gamma*\n",
    "    bestScore -- best prediction score\n",
    "    bestParam -- optimal maximum number of features\n",
    "    \n",
    "    \"\"\"\n",
    "    \n",
    "    # Tuning max_features\n",
    "    param=None\n",
    "    ###### START YOUR CODE HERE ######\n",
    "    params = {\n",
    "            'gamma':[0.01,0.1,0.5,1,3],\n",
    "            'C':[0.01,0.05,0.1,0.5,1,5,10,20]\n",
    "    }\n",
    "    ###### END OF THE CODE ######\n",
    "    \n",
    "    svmOpt = None\n",
    "    ###### START YOUR CODE HERE ######\n",
    "    svmCV = GridSearchCV(SVC(kernel=\"rbf\"), param_grid=params, cv=5, scoring=\"f1_weighted\", n_jobs=-1)\n",
    "    svmOpt = svmCV.fit(X_train, Y_train)\n",
    "    ###### END OF THE CODE ######\n",
    "    \n",
    "    # Optimal parameter\n",
    "    ###### START YOUR CODE HERE ######\n",
    "    bestScore = svmOpt.best_score_\n",
    "    bestParam = svmOpt.best_params_\n",
    "    ###### END OF THE CODE ######\n",
    "    print(\"Best score = %f, Best parameter = %s\" % (bestScore,bestParam))\n",
    "    \n",
    "    return svmOpt, bestScore, bestParam"
   ]
  },
  {
   "cell_type": "code",
   "execution_count": 121,
   "metadata": {},
   "outputs": [
    {
     "name": "stdout",
     "output_type": "stream",
     "text": [
      "Best score = 0.754957, Best parameter = {'C': 5, 'gamma': 0.01}\n"
     ]
    }
   ],
   "source": [
    "svmOpt, bestScore, bestParam = GridSearchSVMClassifier(X_train2,Y_train)"
   ]
  },
  {
   "cell_type": "code",
   "execution_count": 122,
   "metadata": {},
   "outputs": [
    {
     "data": {
      "image/png": "[encoded data removed]",
      "text/plain": [
       "<matplotlib.figure.Figure at 0xb5d6940>"
      ]
     },
     "metadata": {},
     "output_type": "display_data"
    }
   ],
   "source": [
    "paramName = 'C'\n",
    "PlotOOBError(paramName,svmOpt)"
   ]
  },
  {
   "cell_type": "code",
   "execution_count": 123,
   "metadata": {},
   "outputs": [
    {
     "data": {
      "text/plain": [
       "0.24561826869731729"
      ]
     },
     "execution_count": 123,
     "metadata": {},
     "output_type": "execute_result"
    }
   ],
   "source": [
    "# Error on Test sample\n",
    "1-svmOpt.score(X_test2,Y_test)"
   ]
  },
  {
   "cell_type": "code",
   "execution_count": 124,
   "metadata": {
    "scrolled": true
   },
   "outputs": [
    {
     "name": "stdout",
     "output_type": "stream",
     "text": [
      "col_0  0.0  1.0\n",
      "row_0          \n",
      "0.0     48   44\n",
      "1.0     73  335\n"
     ]
    }
   ],
   "source": [
    "# Predicting\n",
    "y_chap = svmOpt.predict(X_test2)\n",
    "# Confusion matrix\n",
    "table=pd.crosstab(y_chap,Y_test)\n",
    "print(table)"
   ]
  },
  {
   "cell_type": "markdown",
   "metadata": {},
   "source": [
    "### 2.6 Random Forests"
   ]
  },
  {
   "cell_type": "markdown",
   "metadata": {},
   "source": [
    "The training algorithm for random forests applies the general technique of bootstrap aggregating, or bagging, to tree learners. Given a training set $X = x_{1}, ..., x_{n}$ with responses $Y = y_{1}, ..., y_{n}$, bagging repeatedly (B times) selects a random sample with replacement of the training set and fits trees to these samples:\n",
    "\n",
    "$\\text{For } b = 1, ..., B:$\n",
    "\n",
    "$\\text{     Sample, with replacement, n training examples from X, Y; call these } X_{b}, Y_{b}.$\n",
    "\n",
    "$\\text{     Train a classification or regression tree } f_{b} \\text{on} X_{b}, Y_{b}.$\n",
    "\n",
    "After training,\n",
    "\n",
    "${ {\\hat {f}}={\\frac {1}{B}}\\sum _{b=1}^{B}f_{b}(x')}$"
   ]
  },
  {
   "cell_type": "markdown",
   "metadata": {},
   "source": [
    "Just like the boosting, two functions are suggested in [scikit-learn](http://scikit-learn.org/stable/modules/ensemble.html); one for regression, one for classification, along with a more random version."
   ]
  },
  {
   "cell_type": "code",
   "execution_count": 125,
   "metadata": {
    "collapsed": true
   },
   "outputs": [],
   "source": [
    "from sklearn.ensemble import RandomForestClassifier "
   ]
  },
  {
   "cell_type": "markdown",
   "metadata": {},
   "source": [
    "**Exercice** :\n",
    "Execute 5-folds GridSearch on RandomForestClassifier, on 100 estimators, grid searching on each value of max_features between 2 and 20. Print the best parameter. **Make sure the model takes the unbalanced weights of class into account.**"
   ]
  },
  {
   "cell_type": "markdown",
   "metadata": {},
   "source": [
    "Cross validation Optimization of the number of sampled features for each node."
   ]
  },
  {
   "cell_type": "code",
   "execution_count": 127,
   "metadata": {
    "collapsed": true
   },
   "outputs": [],
   "source": [
    "def GridSearchSimpleRandomForestClassifier(X_train,Y_train):\n",
    "    \"\"\"\n",
    "    Grid search method to find optimal maximum number of features for RandomForestClassifier\n",
    "    \n",
    "    Arguments:\n",
    "    X_train -- training set\n",
    "    Y_train -- output vector\n",
    "    \n",
    "    Returns:\n",
    "    rfOpt -- trained GridSearch for RandomForestClassifier model on each value of *max_features* between 2 and 9\n",
    "    bestScore -- best prediction score\n",
    "    bestParam -- optimal maximum number of features\n",
    "    \n",
    "    \"\"\"\n",
    "    \n",
    "    # Tuning max_features\n",
    "    ############## START YOUR CODE HERE ##############\n",
    "    params = [{\n",
    "        \"max_features\": np.arange(2, 21)\n",
    "    }]\n",
    "    \n",
    "    #################### END OF THE CODE ######\n",
    "    \n",
    "    rfOpt = None\n",
    "    ###### START YOUR CODE HERE ######\n",
    "    rfCV = GridSearchCV(RandomForestClassifier(n_estimators=100, oob_score=True),\n",
    "                       param_grid=params,\n",
    "                       cv=5,\n",
    "                       scoring=\"f1_weighted\",\n",
    "                       n_jobs=-1)\n",
    "    \n",
    "    rfOpt = rfCV.fit(X_train, Y_train)\n",
    "    ###### END OF THE CODE ######\n",
    "    \n",
    "    # Optimal parameter\n",
    "    ###### START YOUR CODE HERE ######\n",
    "    bestScore = rfOpt.best_score_\n",
    "    bestParam = rfOpt.best_params_\n",
    "    \n",
    "    ###### END OF THE CODE ######\n",
    "    print(\"Best score = %f, Best parameter = %s\" % (bestScore,bestParam))\n",
    "    \n",
    "    return rfOpt, bestScore, bestParam"
   ]
  },
  {
   "cell_type": "code",
   "execution_count": 128,
   "metadata": {},
   "outputs": [
    {
     "name": "stdout",
     "output_type": "stream",
     "text": [
      "Best score = 0.807107, Best parameter = {'max_features': 15}\n"
     ]
    }
   ],
   "source": [
    "rfOpt, bestScore, bestParam = GridSearchSimpleRandomForestClassifier(X_train2,Y_train)"
   ]
  },
  {
   "cell_type": "code",
   "execution_count": 129,
   "metadata": {},
   "outputs": [
    {
     "data": {
      "image/png": "[encoded data removed]",
      "text/plain": [
       "<matplotlib.figure.Figure at 0xb366048>"
      ]
     },
     "metadata": {},
     "output_type": "display_data"
    }
   ],
   "source": [
    "PlotOOBError('max_features',rfOpt)"
   ]
  },
  {
   "cell_type": "code",
   "execution_count": 130,
   "metadata": {},
   "outputs": [
    {
     "data": {
      "text/plain": [
       "0.20613696006129678"
      ]
     },
     "execution_count": 130,
     "metadata": {},
     "output_type": "execute_result"
    }
   ],
   "source": [
    "# Error on Test sample\n",
    "1-rfOpt.score(X_test2,Y_test)"
   ]
  },
  {
   "cell_type": "code",
   "execution_count": 131,
   "metadata": {},
   "outputs": [
    {
     "name": "stdout",
     "output_type": "stream",
     "text": [
      "col_0  0.0  1.0\n",
      "row_0          \n",
      "0.0     57   34\n",
      "1.0     64  345\n"
     ]
    }
   ],
   "source": [
    "# Predicting\n",
    "y_chap = rfOpt.predict(X_test2)\n",
    "y_chap = np.round(y_chap)\n",
    "# Confusion matrix\n",
    "table=pd.crosstab(y_chap,Y_test)\n",
    "print(table)"
   ]
  },
  {
   "cell_type": "markdown",
   "metadata": {},
   "source": [
    "We can compute a feature importance indicator in order to better interpret the results. The indicator depends on the feature position in the tree. The forest must be reestimated because the GridSearch doesn't recognize the *importance parameter*."
   ]
  },
  {
   "cell_type": "markdown",
   "metadata": {},
   "source": [
    "## 3. Synthesis : Comparison of methods"
   ]
  },
  {
   "cell_type": "markdown",
   "metadata": {},
   "source": [
    "### 3.1 ROC Curves"
   ]
  },
  {
   "cell_type": "code",
   "execution_count": 146,
   "metadata": {
    "collapsed": true
   },
   "outputs": [],
   "source": [
    "from sklearn.metrics import roc_curve\n",
    "listMethod=[['lasso',regLassoOpt],[\"RF\",rfOpt],[\"Logit\",logitOpt],[\"Tree\",treeOpt],[\"K-nn\",knnOpt]]"
   ]
  },
  {
   "cell_type": "markdown",
   "metadata": {},
   "source": [
    "**Exercice** :\n",
    "Plot the ROC curves for all the previous methods.\n",
    "\n",
    "USE THE ROC_CURVE PACKAGE TO DO SO.\n"
   ]
  },
  {
   "cell_type": "code",
   "execution_count": 156,
   "metadata": {},
   "outputs": [
    {
     "name": "stderr",
     "output_type": "stream",
     "text": [
      "C:\\Users\\Bunten\\AppData\\Local\\Continuum\\Anaconda3\\envs\\hadrian-advisors\\lib\\site-packages\\matplotlib\\axes\\_axes.py:545: UserWarning: No labelled objects found. Use label='...' kwarg on individual plots.\n",
      "  warnings.warn(\"No labelled objects found. \"\n"
     ]
    },
    {
     "data": {
      "image/png": "[encoded data removed]",
      "text/plain": [
       "<matplotlib.figure.Figure at 0xd5e1e10>"
      ]
     },
     "metadata": {},
     "output_type": "display_data"
    }
   ],
   "source": [
    "for method in enumerate(listMethod):\n",
    "    ############## YOUR CODE #######################\n",
    "    roc_curve(Y_test, method[1][1].predict(X_test2))  \n",
    "    ############### END ###########################\n",
    "plt.xlabel('False positive rates')\n",
    "plt.ylabel('True positive rates')\n",
    "plt.legend(loc=\"best\")\n",
    "plt.show()"
   ]
  },
  {
   "cell_type": "markdown",
   "metadata": {},
   "source": [
    "**QUESTION :** Is the AUC criteria useful to sort the curves and the methods?\n",
    "\n",
    "We must choose the best learning method using a false positive ratio."
   ]
  },
  {
   "cell_type": "markdown",
   "metadata": {},
   "source": [
    "### 3.2 Iteration on several samples (Monte Carlo)"
   ]
  },
  {
   "cell_type": "markdown",
   "metadata": {},
   "source": [
    "If the test sample is of little size, the estimate of the prediction error may have a large variance. We can reduce it by computing a *Monte Carlo* method, picking several training-test couples to iterate the previous treatments. The data is normalized.\n",
    "\n",
    "The code is compact and efficient because it is well parallelized by the used functions."
   ]
  },
  {
   "cell_type": "markdown",
   "metadata": {},
   "source": [
    "** Exercice ** :\n",
    "Tune the code below, given the estimated optimal parameters we have got before, \n",
    "\n",
    "SAMPLING, SCALING (STANDARDSCALER LIBRARY), AND GRIDSEARCHING.\n",
    "and complete the code by implementing sampling, scaling, and grisearching (5 k-folds).\n",
    "\n",
    "**NB** : here, the validation set size for *gridsearch* will be of *20%* of the size of *X_train2*, to allow the model to be  as unbiased as possible.\n",
    "\n",
    "**MOREOVER, BE SURE TO USE THE ADEQUATE SCORING PARAMETER IN THE GRIDSEARCH (F1 WEIGHTED)**"
   ]
  },
  {
   "cell_type": "code",
   "execution_count": null,
   "metadata": {
    "collapsed": true
   },
   "outputs": [],
   "source": [
    "from sklearn.utils import check_random_state\n",
    "from sklearn.linear_model import LogisticRegression\n",
    "from sklearn.model_selection import train_test_split\n",
    "import time"
   ]
  },
  {
   "cell_type": "code",
   "execution_count": null,
   "metadata": {
    "collapsed": true
   },
   "outputs": [],
   "source": [
    "check_random_state(13)\n",
    "tps0=time.clock()\n",
    "\n",
    "# Definition of the estimators\n",
    "logit= LogisticRegression(penalty=\"l2\")\n",
    "knn  = KNeighborsClassifier()\n",
    "tree = DecisionTreeClassifier()\n",
    "rf   = RandomForestClassifier(n_estimators=100,class_weight='balanced_subsample')\n",
    "\n",
    "# Number of estimations\n",
    "B=3\n",
    "\n",
    "# Parameters Grid\n",
    "listMethGrid=[[rf,{\"max_features\":list(range(15,30,2))}],\n",
    "    [tree,{\"max_depth\":list(range(4,30))}],\n",
    "    [knn,{\"n_neighbors\":list(range(10,40))}],\n",
    "    [logit,{\"C\":[0.01,0.02,0.05,0.1,0.2,0.5,1,5]}]]\n",
    "\n",
    "# Error Initialisation for each method (column) and each iteration (row)\n",
    "arrayErreur=np.empty((B,4))\n",
    "for i in range(B):   # iterations for B samples\n",
    "    # Learning and Test Sampling, and scaling\n",
    "    X_learn = []\n",
    "    Y_learn = []\n",
    "    X_val = []\n",
    "    Y_val = []\n",
    "    \n",
    "    ########################### YOUR CODE (about 5 lines) ###########################\n",
    "    \n",
    "    ########################### END OF CODE ###########################\n",
    "    \n",
    "    \n",
    "    # Optimization\n",
    "    for j,(method, grid_list) in enumerate(listMethGrid):\n",
    "        methodGrid = []\n",
    "        methodOpt = []\n",
    "        methFit = []\n",
    "        \n",
    "        \n",
    "        ########################### YOUR CODE (approximately 3 lines) ###########################\n",
    "        \n",
    "        ########################### END OF CODE ###########################\n",
    "        \n",
    "        \n",
    "        arrayErreur[i,j]=1-methFit.score(X_val,Y_val)\n",
    "tps1=time.clock()\n",
    "print(\"Elapsed time in minutes :\",(tps1 - tps0)/60)    "
   ]
  },
  {
   "cell_type": "code",
   "execution_count": null,
   "metadata": {
    "collapsed": true
   },
   "outputs": [],
   "source": [
    "# Distribution of the Errors\n",
    "dataframeErreur=pd.DataFrame(arrayErreur,columns=[\"RF\",\"Tree\",\"Knn\",\"Logit\"])\n",
    "dataframeErreur[[\"RF\",\"Tree\",\"Knn\",\"Logit\"]].boxplot(return_type='dict')\n",
    "plt.show()"
   ]
  },
  {
   "cell_type": "code",
   "execution_count": null,
   "metadata": {
    "collapsed": true
   },
   "outputs": [],
   "source": [
    "# Means\n",
    "dataframeErreur.mean()"
   ]
  },
  {
   "cell_type": "markdown",
   "metadata": {},
   "source": [
    "**Exercice** :\n",
    "Add the gradient boosting model to the previous code. Which parameter, apart from the number of estimators, would you try to tune first?"
   ]
  }
 ],
 "metadata": {
  "kernelspec": {
   "display_name": "Python 3",
   "language": "python",
   "name": "python3"
  },
  "language_info": {
   "codemirror_mode": {
    "name": "ipython",
    "version": 3
   },
   "file_extension": ".py",
   "mimetype": "text/x-python",
   "name": "python",
   "nbconvert_exporter": "python",
   "pygments_lexer": "ipython3",
   "version": "3.5.4"
  }
 },
 "nbformat": 4,
 "nbformat_minor": 1
}
